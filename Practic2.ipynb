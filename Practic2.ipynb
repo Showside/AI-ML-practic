{
  "nbformat": 4,
  "nbformat_minor": 0,
  "metadata": {
    "colab": {
      "provenance": [],
      "toc_visible": true,
      "authorship_tag": "ABX9TyN2U72HFh7NZY1llDOl+Svg",
      "include_colab_link": true
    },
    "kernelspec": {
      "name": "python3",
      "display_name": "Python 3"
    },
    "language_info": {
      "name": "python"
    }
  },
  "cells": [
    {
      "cell_type": "markdown",
      "metadata": {
        "id": "view-in-github",
        "colab_type": "text"
      },
      "source": [
        "<a href=\"https://colab.research.google.com/github/Showside/AI-ML-practic/blob/main/Practic2.ipynb\" target=\"_parent\"><img src=\"https://colab.research.google.com/assets/colab-badge.svg\" alt=\"Open In Colab\"/></a>"
      ]
    },
    {
      "cell_type": "markdown",
      "source": [
        "# 1) Даны три целых числа. Определите, сколько среди них совпадающих. Функция должна вернуть одно из чисел: 3 (если все совпадают), 2 (если два совпадает) или 0 (если все числа различны)."
      ],
      "metadata": {
        "id": "qrBiTW4_9GLz"
      }
    },
    {
      "cell_type": "code",
      "source": [
        "x, y, z = int(input()), int(input()), int(input())\n",
        "if x == y == z:\n",
        "  print(\"3\")\n",
        "elif x == y != z or x != y == z or x == z != y:\n",
        "  print(\"2\")\n",
        "else:\n",
        "  print(\"0\")"
      ],
      "metadata": {
        "colab": {
          "base_uri": "https://localhost:8080/"
        },
        "id": "d_m8jeNQ9K7K",
        "outputId": "65a111b4-cb6a-4a00-df89-eecafd6863f6"
      },
      "execution_count": null,
      "outputs": [
        {
          "output_type": "stream",
          "name": "stdout",
          "text": [
            "5\n",
            "7\n",
            "5\n",
            "2\n"
          ]
        }
      ]
    },
    {
      "cell_type": "markdown",
      "source": [
        "# 2) По данному натуральному n ≤ 9 выведите лесенку из n ступенек, i-я ступенька состоит из чисел от 1 до i без пробелов."
      ],
      "metadata": {
        "id": "7kbO8FXC-AtI"
      }
    },
    {
      "cell_type": "code",
      "source": [
        "n = int(input())\n",
        "st = \"\"\n",
        "for i in range(1,n+1):\n",
        "  st = st + str(i)\n",
        "  print(st)"
      ],
      "metadata": {
        "colab": {
          "base_uri": "https://localhost:8080/"
        },
        "id": "jzYmSv9h-G3Z",
        "outputId": "268bb638-bb43-4e3e-8f27-c1356782c3a8"
      },
      "execution_count": null,
      "outputs": [
        {
          "output_type": "stream",
          "name": "stdout",
          "text": [
            "9\n",
            "1\n",
            "12\n",
            "123\n",
            "1234\n",
            "12345\n",
            "123456\n",
            "1234567\n",
            "12345678\n",
            "123456789\n"
          ]
        }
      ]
    },
    {
      "cell_type": "markdown",
      "source": [
        "# 3) Дополните код из предыдущего задания, чтобы теперь получалась пирамида. То есть каждая ступень состоит из чисел от 1 до i и обратно."
      ],
      "metadata": {
        "id": "1OxvfWAc-GBc"
      }
    },
    {
      "cell_type": "code",
      "source": [
        "n = int(input())\n",
        "st = \"\"\n",
        "sp = n - 1\n",
        "for i in range(1,n+1):\n",
        "  st = st + str(i)\n",
        "  print(\" \"*sp + st + st[-2::-1])\n",
        "  sp = sp - 1"
      ],
      "metadata": {
        "colab": {
          "base_uri": "https://localhost:8080/"
        },
        "id": "JaKCMBYu-rtJ",
        "outputId": "ef32e949-0f8d-4841-f926-a8cd46f0f427"
      },
      "execution_count": null,
      "outputs": [
        {
          "output_type": "stream",
          "name": "stdout",
          "text": [
            "9\n",
            "        1\n",
            "       121\n",
            "      12321\n",
            "     1234321\n",
            "    123454321\n",
            "   12345654321\n",
            "  1234567654321\n",
            " 123456787654321\n",
            "12345678987654321\n"
          ]
        }
      ]
    },
    {
      "cell_type": "markdown",
      "source": [
        "# 4) Задан список с числами. Напишите функцию, которая добавляет все элементы списка с четными индексами в новый список и возвращает его."
      ],
      "metadata": {
        "id": "9qiBmpYhApmO"
      }
    },
    {
      "cell_type": "code",
      "source": [
        "import random as r"
      ],
      "metadata": {
        "id": "CjYhiIHFBCj8"
      },
      "execution_count": null,
      "outputs": []
    },
    {
      "cell_type": "code",
      "source": [
        "numberlist = [r.randint(-100,100) for i in range (15)]\n",
        "print(numberlist)"
      ],
      "metadata": {
        "colab": {
          "base_uri": "https://localhost:8080/"
        },
        "id": "rfROUqUEAqBn",
        "outputId": "b841abd9-2ae6-45b2-eb9d-20c4ad9f2467"
      },
      "execution_count": null,
      "outputs": [
        {
          "output_type": "stream",
          "name": "stdout",
          "text": [
            "[-81, -22, -21, 37, -77, 47, -17, -13, 6, -85, -39, 53, 20, 93, 99]\n"
          ]
        }
      ]
    },
    {
      "cell_type": "code",
      "source": [
        "def newlist(number_list):\n",
        "  new_list = []\n",
        "  for i in range(0, len(number_list), 2):\n",
        "    new_list.append(number_list[i])\n",
        "  return new_list\n",
        "print(newlist(numberlist))"
      ],
      "metadata": {
        "colab": {
          "base_uri": "https://localhost:8080/"
        },
        "id": "dGmeEPcQBVzL",
        "outputId": "acbebbae-0768-48a2-b65e-9d16dc5a745a"
      },
      "execution_count": null,
      "outputs": [
        {
          "output_type": "stream",
          "name": "stdout",
          "text": [
            "[-81, -21, -77, -17, 6, -39, 20, 99]\n"
          ]
        }
      ]
    },
    {
      "cell_type": "markdown",
      "source": [
        "# 5) Задан список с числами. Напишите функцию, которая меняет местами наибольший и наименьший элемент и возвращает новый список."
      ],
      "metadata": {
        "id": "SFYO6UE9CXGM"
      }
    },
    {
      "cell_type": "code",
      "source": [
        "def change_max_min(number_list):\n",
        "  new_list = []\n",
        "  max_in = number_list.index(max(number_list))\n",
        "  min_in = number_list.index(min(number_list))\n",
        "  new_list = number_list.copy()\n",
        "  new_list[max_in], new_list[min_in] = new_list[min_in], new_list[max_in]\n",
        "  return new_list\n",
        "print(change_max_min(numberlist))"
      ],
      "metadata": {
        "colab": {
          "base_uri": "https://localhost:8080/"
        },
        "id": "_cLQuHMACak3",
        "outputId": "93606e1b-684e-4c91-abf3-a59dfe70eaf5"
      },
      "execution_count": null,
      "outputs": [
        {
          "output_type": "stream",
          "name": "stdout",
          "text": [
            "[-81, -22, -21, 37, -77, 47, -17, -13, 6, 99, -39, 53, 20, 93, -85]\n"
          ]
        }
      ]
    },
    {
      "cell_type": "markdown",
      "source": [
        "# 6) Пароль считается надежным, если его длина составляет не менее 12 символов, при этом он должен содержать хотя бы одну заглавную букву, хотя бы одну строчную букву, хотя бы одну цифру и хотя бы один спецсимвол. Напишите функцию, которая обрабатывает строковые данные и возвражает 1 - если они могут быть паролем, и 0 в обратном случае."
      ],
      "metadata": {
        "id": "aGH1MSNaEGlY"
      }
    },
    {
      "cell_type": "code",
      "source": [
        "from string import ascii_lowercase, ascii_uppercase, digits, punctuation"
      ],
      "metadata": {
        "id": "XPF-aMIcGYhE"
      },
      "execution_count": null,
      "outputs": []
    },
    {
      "cell_type": "code",
      "source": [
        "def can_be_pass():\n",
        "  password = input(\"Enter pass: \")\n",
        "  if len(password) >= 12:\n",
        "    lc, up, dg, pc = False, False, False, False\n",
        "    for i in password:\n",
        "      if i in ascii_lowercase:\n",
        "        lc = True\n",
        "      elif  i in ascii_uppercase:\n",
        "        uc = True\n",
        "      elif  i in digits:\n",
        "        dg = True\n",
        "      elif  i in punctuation:\n",
        "        pc = True\n",
        "\n",
        "    if lc and uc and dg and pc:\n",
        "      print(\"1\")\n",
        "    else:\n",
        "      print(\"0\")\n",
        "can_be_pass()"
      ],
      "metadata": {
        "colab": {
          "base_uri": "https://localhost:8080/"
        },
        "id": "rzwF5sW6E077",
        "outputId": "073f2044-36a3-42c4-e1e6-40c443a2f2ae"
      },
      "execution_count": null,
      "outputs": [
        {
          "output_type": "stream",
          "name": "stdout",
          "text": [
            "Enter pass: Ascii_Letter2281337\n",
            "1\n"
          ]
        }
      ]
    },
    {
      "cell_type": "markdown",
      "source": [
        "# 7) Напишите функцию, которая будет производить поиск по значению и выдавать ключ."
      ],
      "metadata": {
        "id": "wVzt6x90Jyk5"
      }
    },
    {
      "cell_type": "code",
      "source": [
        "dictionary = {\n",
        "    \"1\" : \"Sun\",\n",
        "    \"2\" : \"Day\",\n",
        "    \"3\" : \"Ocean\",\n",
        "    \"4\" : \"Travel\",\n",
        "    \"5\" : \"Station\",\n",
        "    \"6\" : \"Train\",\n",
        "    \"7\" : \"Car\",\n",
        "    \"8\" : \"Train\",\n",
        "    \"9\" : \"February\",\n",
        "    \"10\" : \"January\",\n",
        "}"
      ],
      "metadata": {
        "id": "RDgUTF0fENQp"
      },
      "execution_count": null,
      "outputs": []
    },
    {
      "cell_type": "code",
      "execution_count": null,
      "metadata": {
        "colab": {
          "base_uri": "https://localhost:8080/"
        },
        "id": "83wocdfI53YJ",
        "outputId": "279ba080-94eb-4af3-ba74-fdd69d247ff4"
      },
      "outputs": [
        {
          "output_type": "stream",
          "name": "stdout",
          "text": [
            "Enter value: Train\n",
            "Value 'Train' have keys: ['6', '8']\n"
          ]
        }
      ],
      "source": [
        "x = input(\"Enter value: \")\n",
        "z = []\n",
        "for keys, value in dictionary.items():\n",
        "    if x == value:\n",
        "        z.append(keys)\n",
        "\n",
        "print(f\"Value '{x}' have keys: {z}\")"
      ]
    }
  ]
}