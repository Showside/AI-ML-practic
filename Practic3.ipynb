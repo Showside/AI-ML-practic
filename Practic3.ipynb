{
  "nbformat": 4,
  "nbformat_minor": 0,
  "metadata": {
    "colab": {
      "provenance": [],
      "authorship_tag": "ABX9TyOy8DG2tpjHPUkMpz+fEGJM",
      "include_colab_link": true
    },
    "kernelspec": {
      "name": "python3",
      "display_name": "Python 3"
    },
    "language_info": {
      "name": "python"
    }
  },
  "cells": [
    {
      "cell_type": "markdown",
      "metadata": {
        "id": "view-in-github",
        "colab_type": "text"
      },
      "source": [
        "<a href=\"https://colab.research.google.com/github/Showside/AI-ML-practic/blob/main/Practic3.ipynb\" target=\"_parent\"><img src=\"https://colab.research.google.com/assets/colab-badge.svg\" alt=\"Open In Colab\"/></a>"
      ]
    },
    {
      "cell_type": "code",
      "source": [
        "import numpy as np"
      ],
      "metadata": {
        "id": "R_3D7L5L8yoZ"
      },
      "execution_count": null,
      "outputs": []
    },
    {
      "cell_type": "markdown",
      "source": [
        "#1 Найти индексы ненулевых элементов в заданном массиве."
      ],
      "metadata": {
        "id": "aK05UEDi64VB"
      }
    },
    {
      "cell_type": "code",
      "execution_count": null,
      "metadata": {
        "colab": {
          "base_uri": "https://localhost:8080/"
        },
        "id": "QXd4nYmn6qdx",
        "outputId": "100fc50c-7682-4c60-c727-e6c858c08c40"
      },
      "outputs": [
        {
          "output_type": "stream",
          "name": "stdout",
          "text": [
            "[3 9 4 3 6 2 1 5 8 6 6 4 3 0 9]\n",
            "(array([ 0,  1,  2,  3,  4,  5,  6,  7,  8,  9, 10, 11, 12, 14]),)\n",
            "(array([ 0,  1,  2,  3,  4,  5,  6,  7,  8,  9, 10, 11, 12, 14]),)\n"
          ]
        }
      ],
      "source": [
        "data = np.random.randint(0,10, (15))\n",
        "print(data)\n",
        "data_notzero_args = np.where(data != 0)\n",
        "print(np.nonzero(data))\n",
        "print(data_notzero_args)"
      ]
    },
    {
      "cell_type": "markdown",
      "source": [
        "#2 Создать nxn единичную матрицу.\n"
      ],
      "metadata": {
        "id": "1yI5jCUR7Dpw"
      }
    },
    {
      "cell_type": "code",
      "source": [
        "n = 5\n",
        "one = np.eye(n)\n",
        "print(one)"
      ],
      "metadata": {
        "colab": {
          "base_uri": "https://localhost:8080/"
        },
        "id": "8y5pD01X8OFV",
        "outputId": "4c56461d-fc5b-4fc6-be07-83ba7a40859c"
      },
      "execution_count": null,
      "outputs": [
        {
          "output_type": "stream",
          "name": "stdout",
          "text": [
            "[[1. 0. 0. 0. 0.]\n",
            " [0. 1. 0. 0. 0.]\n",
            " [0. 0. 1. 0. 0.]\n",
            " [0. 0. 0. 1. 0.]\n",
            " [0. 0. 0. 0. 1.]]\n"
          ]
        }
      ]
    },
    {
      "cell_type": "markdown",
      "source": [
        "#3 Создать массив nxnxn со случайными значениями\n"
      ],
      "metadata": {
        "id": "Rs9V0RNX7EBO"
      }
    },
    {
      "cell_type": "code",
      "source": [
        "n = 3\n",
        "data = np.random.random((n,n,n))\n",
        "print(data)"
      ],
      "metadata": {
        "colab": {
          "base_uri": "https://localhost:8080/"
        },
        "id": "Ekl46b278OyN",
        "outputId": "c5cf1237-3a69-482e-f1eb-7ffb5b92ed9e"
      },
      "execution_count": null,
      "outputs": [
        {
          "output_type": "stream",
          "name": "stdout",
          "text": [
            "[[[0.75077667 0.30346243 0.19854737]\n",
            "  [0.87898327 0.82677812 0.03437998]\n",
            "  [0.21184476 0.96209724 0.41221755]]\n",
            "\n",
            " [[0.21105102 0.50719704 0.16113494]\n",
            "  [0.36297935 0.91879743 0.00654761]\n",
            "  [0.85026583 0.78283188 0.33776554]]\n",
            "\n",
            " [[0.13144058 0.84415492 0.50880981]\n",
            "  [0.92527198 0.16725965 0.3484597 ]\n",
            "  [0.71961944 0.88290006 0.80022442]]]\n"
          ]
        }
      ]
    },
    {
      "cell_type": "markdown",
      "source": [
        "#4 Создать вектор (одномерный массив) размера n, заполненный нулями\n"
      ],
      "metadata": {
        "id": "Pkg8BDrH7ERz"
      }
    },
    {
      "cell_type": "code",
      "source": [
        "n = 5\n",
        "data = np.zeros(n)\n",
        "print(data)"
      ],
      "metadata": {
        "colab": {
          "base_uri": "https://localhost:8080/"
        },
        "id": "Amkeos638PZ7",
        "outputId": "7631103c-6074-44fb-897f-cc1c2e97061f"
      },
      "execution_count": null,
      "outputs": [
        {
          "output_type": "stream",
          "name": "stdout",
          "text": [
            "[0. 0. 0. 0. 0.]\n"
          ]
        }
      ]
    },
    {
      "cell_type": "markdown",
      "source": [
        "#5 Создать вектор размера 1n, заполненный нулями, но пятый элемент равен 1\n"
      ],
      "metadata": {
        "id": "iOPR7LDm7EeR"
      }
    },
    {
      "cell_type": "code",
      "source": [
        "n = 7\n",
        "data = np.zeros(n)\n",
        "data[4] = 1\n",
        "print(data)"
      ],
      "metadata": {
        "colab": {
          "base_uri": "https://localhost:8080/"
        },
        "id": "sM8zJcI08P82",
        "outputId": "ac86f413-204e-4a41-c963-ebc5a4dddae7"
      },
      "execution_count": null,
      "outputs": [
        {
          "output_type": "stream",
          "name": "stdout",
          "text": [
            "[0. 0. 0. 0. 1. 0. 0.]\n"
          ]
        }
      ]
    },
    {
      "cell_type": "markdown",
      "source": [
        "#6 Создать вектор со значениями от n до m\n"
      ],
      "metadata": {
        "id": "4uX3yIqS7Epc"
      }
    },
    {
      "cell_type": "code",
      "source": [
        "n,m = 3,10\n",
        "data = np.arange(n,m+1)\n",
        "print(data)"
      ],
      "metadata": {
        "colab": {
          "base_uri": "https://localhost:8080/"
        },
        "id": "g1CoX3ns8QrM",
        "outputId": "e130db6c-45f7-4314-e27b-f2155895bdca"
      },
      "execution_count": null,
      "outputs": [
        {
          "output_type": "stream",
          "name": "stdout",
          "text": [
            "[ 3  4  5  6  7  8  9 10]\n"
          ]
        }
      ]
    },
    {
      "cell_type": "markdown",
      "source": [
        "#7 Развернуть одномерный массив (первый становится последним)\n"
      ],
      "metadata": {
        "id": "L_w8EEcA7Ezn"
      }
    },
    {
      "cell_type": "code",
      "source": [
        "data_inv = data[::-1]\n",
        "print(data_inv)"
      ],
      "metadata": {
        "colab": {
          "base_uri": "https://localhost:8080/"
        },
        "id": "ZUTRCp5B8RQc",
        "outputId": "9cb2124c-3568-4c2d-e8d3-02c1bb118cd2"
      },
      "execution_count": null,
      "outputs": [
        {
          "output_type": "stream",
          "name": "stdout",
          "text": [
            "[10  9  8  7  6  5  4  3]\n"
          ]
        }
      ]
    },
    {
      "cell_type": "markdown",
      "source": [
        "#8 Создать матрицу с 0 внутри, и 1 на границах\n"
      ],
      "metadata": {
        "id": "GohEywHy7E9U"
      }
    },
    {
      "cell_type": "code",
      "source": [
        "n = 7\n",
        "data = np.zeros((n,n))\n",
        "data = np.asmatrix(data)\n",
        "data[0,:], data[-1,:], data[:,0], data[:,-1] = 1, 1, 1, 1\n",
        "print(data)"
      ],
      "metadata": {
        "colab": {
          "base_uri": "https://localhost:8080/"
        },
        "id": "vv7HdUD38R9e",
        "outputId": "1a284b77-5752-42d6-f57c-fa1ca6e55fbd"
      },
      "execution_count": null,
      "outputs": [
        {
          "output_type": "stream",
          "name": "stdout",
          "text": [
            "[[1. 1. 1. 1. 1. 1. 1.]\n",
            " [1. 0. 0. 0. 0. 0. 1.]\n",
            " [1. 0. 0. 0. 0. 0. 1.]\n",
            " [1. 0. 0. 0. 0. 0. 1.]\n",
            " [1. 0. 0. 0. 0. 0. 1.]\n",
            " [1. 0. 0. 0. 0. 0. 1.]\n",
            " [1. 1. 1. 1. 1. 1. 1.]]\n"
          ]
        }
      ]
    },
    {
      "cell_type": "markdown",
      "source": [
        "#9 Создать nxn матрицу и заполнить её в шахматном порядке"
      ],
      "metadata": {
        "id": "oJ6oRYBf7FPP"
      }
    },
    {
      "cell_type": "code",
      "source": [
        "n = 5\n",
        "data = np.zeros((n,n))\n",
        "print(data.shape)\n",
        "for i in range(n):\n",
        "  for j in range(n):\n",
        "    if (i % 2 == 1 and j % 2 == 1) or (i % 2 == 0 and j % 2 == 0):\n",
        "      data[i][j] = 1\n",
        "print(data)"
      ],
      "metadata": {
        "colab": {
          "base_uri": "https://localhost:8080/"
        },
        "id": "Uf9CLLOM8SkH",
        "outputId": "8619044e-7941-4933-d337-b7b7c5700c2e"
      },
      "execution_count": null,
      "outputs": [
        {
          "output_type": "stream",
          "name": "stdout",
          "text": [
            "(5, 5)\n",
            "[[1. 0. 1. 0. 1.]\n",
            " [0. 1. 0. 1. 0.]\n",
            " [1. 0. 1. 0. 1.]\n",
            " [0. 1. 0. 1. 0.]\n",
            " [1. 0. 1. 0. 1.]]\n"
          ]
        }
      ]
    },
    {
      "cell_type": "markdown",
      "source": [
        "#10 Заменить максимальный элемент на ноль\n"
      ],
      "metadata": {
        "id": "SoRSlySP7FgF"
      }
    },
    {
      "cell_type": "code",
      "source": [
        "data = np.random.randint(0,100, (15))\n",
        "print(data)\n",
        "data[data.argmax()] = 0\n",
        "print(data)"
      ],
      "metadata": {
        "colab": {
          "base_uri": "https://localhost:8080/"
        },
        "id": "rv34HUid8TH8",
        "outputId": "a31cf7fd-e905-421a-dbd6-e328ee74bb96"
      },
      "execution_count": null,
      "outputs": [
        {
          "output_type": "stream",
          "name": "stdout",
          "text": [
            "[ 7 99 13 36 60 16 73 80  3 91  7 18 13 13 59]\n",
            "[ 7  0 13 36 60 16 73 80  3 91  7 18 13 13 59]\n"
          ]
        }
      ]
    },
    {
      "cell_type": "markdown",
      "source": [
        "#11 Найти ближайшее к заданному значению число в заданном массиве\n"
      ],
      "metadata": {
        "id": "XDdg2xlO7Fym"
      }
    },
    {
      "cell_type": "code",
      "source": [
        "data = np.random.randint(0,100, (5,5))\n",
        "x = 24\n",
        "print(data)\n",
        "diff = [abs(i - x) for i in data]\n",
        "diff = np.array(diff)\n",
        "data = data.reshape(25)\n",
        "nearest = data[diff.argmin()]\n",
        "print(f\"Ближайшее к {x} число {nearest}\")"
      ],
      "metadata": {
        "colab": {
          "base_uri": "https://localhost:8080/"
        },
        "id": "WvuiFA0B8Tpx",
        "outputId": "ca09d822-f803-4993-edab-a43ce18603ff"
      },
      "execution_count": null,
      "outputs": [
        {
          "output_type": "stream",
          "name": "stdout",
          "text": [
            "[[17 25 53 51 72]\n",
            " [80 35 79 47 15]\n",
            " [44 31 50 18 76]\n",
            " [72 32 42 19 76]\n",
            " [88 50 40 17  1]]\n",
            "Ближайшее к 24 число 25\n"
          ]
        }
      ]
    },
    {
      "cell_type": "markdown",
      "source": [
        "#12 Дан четырехмерный массив, посчитать сумму по последним двум осям\n"
      ],
      "metadata": {
        "id": "A8n-qTV87GJQ"
      }
    },
    {
      "cell_type": "code",
      "source": [
        "data = np.random.randint(0,100,(3,3,3,3))\n",
        "print(data.sum(axis=-1)+data.sum(axis=-2))\n",
        "#print(data)"
      ],
      "metadata": {
        "colab": {
          "base_uri": "https://localhost:8080/"
        },
        "id": "bZM4C4Oj8UH-",
        "outputId": "df2432a6-754e-4b2f-a0f9-74c3e54cd089"
      },
      "execution_count": null,
      "outputs": [
        {
          "output_type": "stream",
          "name": "stdout",
          "text": [
            "[[[296 247 397]\n",
            "  [434 194 238]\n",
            "  [415 225 322]]\n",
            "\n",
            " [[439 275 338]\n",
            "  [226 193 287]\n",
            "  [267 261 200]]\n",
            "\n",
            " [[260 330 242]\n",
            "  [236 450 326]\n",
            "  [146 316 346]]]\n"
          ]
        }
      ]
    },
    {
      "cell_type": "markdown",
      "source": [
        "#13 Определить, есть ли в двумерном массиве нулевые столбцы\n"
      ],
      "metadata": {
        "id": "WGTawzsF7GZj"
      }
    },
    {
      "cell_type": "code",
      "source": [
        "#data = np.random.rand(5,5)\n",
        "data = np.array([\n",
        "    [0,1,2,3,4],\n",
        "    [0,1,2,3,4],\n",
        "    [0,1,2,3,4],\n",
        "    [0,1,2,3,4],\n",
        "    [0,1,2,3,4],\n",
        "])\n",
        "print(data)\n",
        "compare_mask = data == 0\n",
        "count = 0\n",
        "datat = data.T\n",
        "for j in range(np.shape(datat)[0]):\n",
        "  if np.all(datat[j]==0):\n",
        "    count += 1\n",
        "if count != 0:\n",
        "  print(\"Нулевые столбцы имеются\")\n",
        "else:\n",
        "  print(\"Нулевых столбцов нет\")\n"
      ],
      "metadata": {
        "colab": {
          "base_uri": "https://localhost:8080/"
        },
        "id": "mTyTOtnf8UuV",
        "outputId": "a41e6ef2-6c46-4a61-b6a8-1d884cbefade"
      },
      "execution_count": null,
      "outputs": [
        {
          "output_type": "stream",
          "name": "stdout",
          "text": [
            "[[0 1 2 3 4]\n",
            " [0 1 2 3 4]\n",
            " [0 1 2 3 4]\n",
            " [0 1 2 3 4]\n",
            " [0 1 2 3 4]]\n",
            "Нулевые столбцы имеются\n"
          ]
        }
      ]
    },
    {
      "cell_type": "markdown",
      "source": [
        "#14 Отнять среднее из каждой строки в матрице\n"
      ],
      "metadata": {
        "id": "AhNbeH_R7Gx4"
      }
    },
    {
      "cell_type": "code",
      "source": [
        "n = 7\n",
        "data = np.random.randint(0,30,(n,n))\n",
        "data = np.asmatrix(data)\n",
        "print(data, \"\\n\")\n",
        "for i in range(np.shape(data)[0]):\n",
        "  print(\"Среднее значение в строке\",i,data[i].mean().round())\n",
        "  data[i] = data[i]-data[i].mean().round()\n",
        "print(\"\\n\", data)"
      ],
      "metadata": {
        "colab": {
          "base_uri": "https://localhost:8080/"
        },
        "id": "FADCcq8C8VVV",
        "outputId": "5c798b79-9201-4097-b64d-d808a6065152"
      },
      "execution_count": null,
      "outputs": [
        {
          "output_type": "stream",
          "name": "stdout",
          "text": [
            "[[ 5  0  2 29  9 19 26]\n",
            " [12 21  2  6 24 15 12]\n",
            " [12 21 25 12 13  7 19]\n",
            " [27 23  4  9 25 15 27]\n",
            " [26 28 20  1  1  2 21]\n",
            " [ 4 20  3 29  2 18 16]\n",
            " [29 12 14  1 11  4  3]] \n",
            "\n",
            "Среднее значение в строке 0 13.0\n",
            "Среднее значение в строке 1 13.0\n",
            "Среднее значение в строке 2 16.0\n",
            "Среднее значение в строке 3 19.0\n",
            "Среднее значение в строке 4 14.0\n",
            "Среднее значение в строке 5 13.0\n",
            "Среднее значение в строке 6 11.0\n",
            "\n",
            " [[ -8 -13 -11  16  -4   6  13]\n",
            " [ -1   8 -11  -7  11   2  -1]\n",
            " [ -4   5   9  -4  -3  -9   3]\n",
            " [  8   4 -15 -10   6  -4   8]\n",
            " [ 12  14   6 -13 -13 -12   7]\n",
            " [ -9   7 -10  16 -11   5   3]\n",
            " [ 18   1   3 -10   0  -7  -8]]\n"
          ]
        }
      ]
    },
    {
      "cell_type": "markdown",
      "source": [
        "#15 Создайте вектор с элементами от 10 до 50\n"
      ],
      "metadata": {
        "id": "gOOPXThp7G-C"
      }
    },
    {
      "cell_type": "code",
      "source": [
        "data = np.arange(10,51)\n",
        "print(data)"
      ],
      "metadata": {
        "colab": {
          "base_uri": "https://localhost:8080/"
        },
        "id": "92zo-Spx8V4I",
        "outputId": "cb4fe6b4-064d-4ca2-8c5f-f26811a8a152"
      },
      "execution_count": null,
      "outputs": [
        {
          "output_type": "stream",
          "name": "stdout",
          "text": [
            "[10 11 12 13 14 15 16 17 18 19 20 21 22 23 24 25 26 27 28 29 30 31 32 33\n",
            " 34 35 36 37 38 39 40 41 42 43 44 45 46 47 48 49 50]\n"
          ]
        }
      ]
    },
    {
      "cell_type": "markdown",
      "source": [
        "#16 Создайте матрицу (5, 5), заполненую от 0 до 6\n"
      ],
      "metadata": {
        "id": "2CifADgN7HIM"
      }
    },
    {
      "cell_type": "code",
      "source": [
        "data = np.random.randint(0,7,(5,5))\n",
        "data = np.asmatrix(data)\n",
        "print(data)"
      ],
      "metadata": {
        "colab": {
          "base_uri": "https://localhost:8080/"
        },
        "id": "R8Ip4gvD8WZ5",
        "outputId": "b95415f2-e4c9-4b61-d606-35ce493608b4"
      },
      "execution_count": null,
      "outputs": [
        {
          "output_type": "stream",
          "name": "stdout",
          "text": [
            "[[0 2 2 1 3]\n",
            " [2 5 0 4 1]\n",
            " [3 5 5 6 5]\n",
            " [1 4 6 5 5]\n",
            " [3 0 1 5 3]]\n"
          ]
        }
      ]
    },
    {
      "cell_type": "markdown",
      "source": [
        "#17 Умножьте матрицу размерности (5, 3) на (3, 2)\n"
      ],
      "metadata": {
        "id": "SJxlDlzL7HSZ"
      }
    },
    {
      "cell_type": "code",
      "source": [
        "data1 = np.random.randint(0,7,(5,3))\n",
        "data1 = np.asmatrix(data1)\n",
        "data2 = np.random.randint(0,7,(3,2))\n",
        "data2 = np.asmatrix(data2)\n",
        "data3 = data1.dot(data2)\n",
        "print(data1, \"\\n\")\n",
        "print(data2, \"\\n\")\n",
        "print(data3)"
      ],
      "metadata": {
        "colab": {
          "base_uri": "https://localhost:8080/"
        },
        "id": "CzO0Gxp78W7C",
        "outputId": "4ed202b5-be98-48bb-a7f1-3a2428cdfc7b"
      },
      "execution_count": null,
      "outputs": [
        {
          "output_type": "stream",
          "name": "stdout",
          "text": [
            "[[5 5 1]\n",
            " [5 4 3]\n",
            " [2 1 4]\n",
            " [0 4 0]\n",
            " [3 6 6]] \n",
            "\n",
            "[[6 1]\n",
            " [4 5]\n",
            " [3 2]] \n",
            "\n",
            "[[53 32]\n",
            " [55 31]\n",
            " [28 15]\n",
            " [16 20]\n",
            " [60 45]]\n"
          ]
        }
      ]
    },
    {
      "cell_type": "markdown",
      "source": [
        "#18 Создайте матрицу (10, 10) так, чтобы на границе были 0, а внтури 1\n"
      ],
      "metadata": {
        "id": "XuIcN84b7Hdy"
      }
    },
    {
      "cell_type": "code",
      "source": [
        "data = np.ones((10,10))\n",
        "data = np.asmatrix(data)\n",
        "data[0,:], data[-1,:], data[:,0], data[:,-1] = 0, 0, 0, 0\n",
        "print(data)"
      ],
      "metadata": {
        "colab": {
          "base_uri": "https://localhost:8080/"
        },
        "id": "p4CO1BHh8Xfs",
        "outputId": "951005dc-d7f5-48fa-aefa-bab62d18ea84"
      },
      "execution_count": null,
      "outputs": [
        {
          "output_type": "stream",
          "name": "stdout",
          "text": [
            "[[0. 0. 0. 0. 0. 0. 0. 0. 0. 0.]\n",
            " [0. 1. 1. 1. 1. 1. 1. 1. 1. 0.]\n",
            " [0. 1. 1. 1. 1. 1. 1. 1. 1. 0.]\n",
            " [0. 1. 1. 1. 1. 1. 1. 1. 1. 0.]\n",
            " [0. 1. 1. 1. 1. 1. 1. 1. 1. 0.]\n",
            " [0. 1. 1. 1. 1. 1. 1. 1. 1. 0.]\n",
            " [0. 1. 1. 1. 1. 1. 1. 1. 1. 0.]\n",
            " [0. 1. 1. 1. 1. 1. 1. 1. 1. 0.]\n",
            " [0. 1. 1. 1. 1. 1. 1. 1. 1. 0.]\n",
            " [0. 0. 0. 0. 0. 0. 0. 0. 0. 0.]]\n"
          ]
        }
      ]
    },
    {
      "cell_type": "markdown",
      "source": [
        "#19 Для заданного числа найдите ближайший к нему элемент в векторе\n"
      ],
      "metadata": {
        "id": "Zumycgoe7H0Q"
      }
    },
    {
      "cell_type": "code",
      "source": [
        "data = np.random.randint(0,100, (15))\n",
        "x = 24\n",
        "diff = [abs(i - x) for i in data]\n",
        "diff = np.array(diff)\n",
        "nearest = data[diff.argmin()]\n",
        "print(data)\n",
        "print(f\"Ближайшее к {x} число {nearest}\")"
      ],
      "metadata": {
        "colab": {
          "base_uri": "https://localhost:8080/"
        },
        "id": "tlqEJ5ux8YCE",
        "outputId": "e9103615-a306-4686-b246-5e5c1ce715c4"
      },
      "execution_count": null,
      "outputs": [
        {
          "output_type": "stream",
          "name": "stdout",
          "text": [
            "[ 9 47 85 25 47 42 37  1 43 56 99 54 31 80 81]\n",
            "Ближайшее к 24 число 25\n"
          ]
        }
      ]
    },
    {
      "cell_type": "markdown",
      "source": [
        "#20 Дан трёхмерный массив \"Цветное изображение\", содержащий изображение, размера (height, width, numChannels), а также вектор коэффициентов длины numChannels. Сложить каналы изображения с указанными весами, и вернуть результат в виде матрицы размера (height, width). Реальное изображение не считываем, заполняем трехмерный массив случайными значениями. Преобразуйте цветное изображение в оттенки серого, использовав коэффициенты np.array([0.299, 0.587, 0.114])."
      ],
      "metadata": {
        "id": "XMaWdJcd7uO-"
      }
    },
    {
      "cell_type": "code",
      "source": [
        "height, width, num_channels = 10, 10, 3\n",
        "color_image = np.random.rand(height, width, num_channels)\n",
        "grey = np.array([0.299, 0.587, 0.114])\n",
        "gray_image = np.dot(color_image, grey)\n",
        "#axis=0 * 0.299, axis=1 * 0.587, axis=2 *0.114\n",
        "\n",
        "print(\"Результирующее изображение в оттенках серого:\\n\", gray_image)"
      ],
      "metadata": {
        "colab": {
          "base_uri": "https://localhost:8080/"
        },
        "id": "E1ZHUkbA8Yah",
        "outputId": "83fcbbc9-619d-45b7-87d9-88edbc4199c6"
      },
      "execution_count": null,
      "outputs": [
        {
          "output_type": "stream",
          "name": "stdout",
          "text": [
            "Результирующее изображение в оттенках серого:\n",
            " [[0.59903284 0.41713888 0.56788625 0.77840041 0.46840834 0.38809493\n",
            "  0.48710847 0.3146621  0.50269436 0.79974567]\n",
            " [0.42820351 0.58862425 0.55456588 0.59056056 0.26345486 0.63880152\n",
            "  0.45360416 0.57021787 0.56831835 0.28705602]\n",
            " [0.16819343 0.48470916 0.69274545 0.28525534 0.56380677 0.46193372\n",
            "  0.32464469 0.29109099 0.74552014 0.35298846]\n",
            " [0.47501063 0.70263557 0.52499652 0.3317502  0.23828338 0.60632942\n",
            "  0.31744061 0.45939222 0.55517628 0.58539826]\n",
            " [0.49378965 0.76388371 0.58215402 0.4060477  0.2542649  0.65127924\n",
            "  0.53344332 0.51451433 0.23400006 0.69274377]\n",
            " [0.67442375 0.56866738 0.51846862 0.77888593 0.55707241 0.42673791\n",
            "  0.94152676 0.57486009 0.64929313 0.3264989 ]\n",
            " [0.55896436 0.76900273 0.44999626 0.47059207 0.54437046 0.31166141\n",
            "  0.35276699 0.22927053 0.23581718 0.47725253]\n",
            " [0.44919113 0.53831421 0.79717676 0.82188271 0.52648085 0.46033139\n",
            "  0.52951563 0.88103955 0.22582686 0.12159693]\n",
            " [0.10649422 0.62055441 0.78130575 0.55630905 0.2941039  0.3374745\n",
            "  0.66377532 0.66270692 0.32659455 0.3762287 ]\n",
            " [0.34831971 0.43181648 0.70863028 0.45704759 0.59310206 0.52231627\n",
            "  0.49645816 0.08404553 0.31680625 0.45306478]]\n"
          ]
        }
      ]
    }
  ]
}